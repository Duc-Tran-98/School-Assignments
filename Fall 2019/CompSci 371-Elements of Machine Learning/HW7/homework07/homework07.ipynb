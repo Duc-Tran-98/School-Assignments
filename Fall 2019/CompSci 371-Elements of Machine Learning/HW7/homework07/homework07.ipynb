{
 "cells": [
  {
   "cell_type": "markdown",
   "metadata": {
    "tags": [
     "AST"
    ]
   },
   "source": [
    "# COMPSCI 371D Homework 7"
   ]
  },
  {
   "cell_type": "markdown",
   "metadata": {
    "tags": [
     "AST"
    ]
   },
   "source": [
    "## Part 1: Digit Classification"
   ]
  },
  {
   "cell_type": "code",
   "execution_count": 1,
   "metadata": {
    "tags": [
     "AST"
    ]
   },
   "outputs": [
    {
     "data": {
      "image/png": "[encoded data removed]",
      "text/plain": [
       "<Figure size 864x432 with 10 Axes>"
      ]
     },
     "metadata": {
      "needs_background": "light"
     },
     "output_type": "display_data"
    }
   ],
   "source": [
    "from sklearn import datasets\n",
    "from sklearn.model_selection import train_test_split\n",
    "from sklearn.utils import shuffle\n",
    "import numpy as np\n",
    "import matplotlib.pyplot as plt\n",
    "\n",
    "%matplotlib inline\n",
    "\n",
    "digits = datasets.load_digits()\n",
    "images, values = shuffle(digits.images, digits.target, random_state=0)\n",
    "parity = values % 2   # 1 odd, 0 even\n",
    "\n",
    "plt.figure(figsize=(12, 6))\n",
    "for digit in range(10):\n",
    "    plt.subplot(2, 5, digit+1)\n",
    "    index = np.argwhere(values == digit)[0][0]\n",
    "    color_map = 'Reds' if parity[index] else 'Blues'\n",
    "    plt.imshow(images[index, :, :], cmap=color_map)\n",
    "    plt.axis('off')\n",
    "    plt.title('{}'.format(digit))"
   ]
  },
  {
   "cell_type": "code",
   "execution_count": 2,
   "metadata": {
    "tags": [
     "AST"
    ]
   },
   "outputs": [],
   "source": [
    "data = {'x': images.reshape((len(images), -1)), 'y': parity}\n",
    "\n",
    "test_fraction = 0.4\n",
    "training_set, test_set = {}, {}\n",
    "training_set['x'], test_set['x'], training_set['y'], test_set['y'] = \\\n",
    "    train_test_split(data['x'], data['y'], test_size=test_fraction, random_state=0)"
   ]
  },
  {
   "cell_type": "code",
   "execution_count": 3,
   "metadata": {
    "tags": [
     "AST"
    ]
   },
   "outputs": [],
   "source": [
    "def evaluate(h, train, test, name):\n",
    "    def error_rate(predictor, samples):\n",
    "        x, y = samples['x'], samples['y']\n",
    "        return (1 - predictor.score(x, y)) * 100\n",
    "    \n",
    "    f = '{:s}: training error rate is {:.2f} percent on {} samples,' + \\\n",
    "        '\\n\\ttest error rate is {:.2f} percent on {} samples'\n",
    "    info = (name, error_rate(h, train), len(train['y']), error_rate(h, test), len(test['y']))\n",
    "    print(f.format(*info))"
   ]
  },
  {
   "cell_type": "markdown",
   "metadata": {
    "tags": [
     "AST"
    ]
   },
   "source": [
    "### Problem 1.1"
   ]
  },
  {
   "cell_type": "code",
   "execution_count": 4,
   "metadata": {},
   "outputs": [],
   "source": [
    "from sklearn.linear_model import LogisticRegression"
   ]
  },
  {
   "cell_type": "code",
   "execution_count": 5,
   "metadata": {},
   "outputs": [
    {
     "data": {
      "text/plain": [
       "LogisticRegression(C=100000.0, class_weight=None, dual=False,\n",
       "                   fit_intercept=True, intercept_scaling=1, l1_ratio=None,\n",
       "                   max_iter=10000, multi_class='warn', n_jobs=None,\n",
       "                   penalty='l2', random_state=0, solver='lbfgs', tol=0.0001,\n",
       "                   verbose=0, warm_start=False)"
      ]
     },
     "execution_count": 5,
     "metadata": {},
     "output_type": "execute_result"
    }
   ],
   "source": [
    "pred = LogisticRegression(C = 1e5, solver = 'lbfgs', max_iter = 10000, random_state = 0)\n",
    "pred.fit(training_set['x'], training_set['y'])"
   ]
  },
  {
   "cell_type": "code",
   "execution_count": 6,
   "metadata": {},
   "outputs": [
    {
     "name": "stdout",
     "output_type": "stream",
     "text": [
      "logistic classifier: training error rate is 7.14 percent on 1078 samples,\n",
      "\ttest error rate is 8.62 percent on 719 samples\n"
     ]
    }
   ],
   "source": [
    "evaluate(pred, training_set, test_set, 'logistic classifier')"
   ]
  },
  {
   "cell_type": "markdown",
   "metadata": {
    "tags": [
     "AST"
    ]
   },
   "source": [
    "### Problem 1.2 (Exam-Style)"
   ]
  },
  {
   "cell_type": "markdown",
   "metadata": {},
   "source": [
    "No, because if the training set was linearly separable, there would be an error rate of 0% for the training set, but since there isn't there is no classifier that could perfectly split up the classification."
   ]
  },
  {
   "cell_type": "markdown",
   "metadata": {
    "tags": [
     "AST"
    ]
   },
   "source": [
    "### Problem 1.3 (Exam Style)"
   ]
  },
  {
   "cell_type": "markdown",
   "metadata": {},
   "source": [
    "Our classifier slightly overfits the training data. This can be seen by the fact that the error rate of the test set is slightly higher than the training error rate. If the classifier wasn't overfitted, we would hope to see the same  or even a lower error rate for any new data."
   ]
  },
  {
   "cell_type": "markdown",
   "metadata": {
    "tags": [
     "AST"
    ]
   },
   "source": [
    "### Problem 1.4"
   ]
  },
  {
   "cell_type": "code",
   "execution_count": 7,
   "metadata": {},
   "outputs": [],
   "source": [
    "from sklearn.neighbors import KNeighborsClassifier\n",
    "from sklearn.model_selection import GridSearchCV"
   ]
  },
  {
   "cell_type": "code",
   "execution_count": 8,
   "metadata": {},
   "outputs": [
    {
     "data": {
      "text/plain": [
       "GridSearchCV(cv=15, error_score='raise-deprecating',\n",
       "             estimator=KNeighborsClassifier(algorithm='auto', leaf_size=30,\n",
       "                                            metric='minkowski',\n",
       "                                            metric_params=None, n_jobs=None,\n",
       "                                            n_neighbors=5, p=2,\n",
       "                                            weights='uniform'),\n",
       "             iid=False, n_jobs=None,\n",
       "             param_grid={'n_neighbors': [1, 2, 3, 4, 5, 6, 7, 8, 9, 10]},\n",
       "             pre_dispatch='2*n_jobs', refit=True, return_train_score=False,\n",
       "             scoring='accuracy', verbose=0)"
      ]
     },
     "execution_count": 8,
     "metadata": {},
     "output_type": "execute_result"
    }
   ],
   "source": [
    "params = {'n_neighbors': [1, 2, 3, 4, 5, 6, 7, 8, 9, 10]}\n",
    "h = GridSearchCV(KNeighborsClassifier(), params, scoring='accuracy', iid=False, cv=15)\n",
    "h.fit(training_set['x'], training_set['y'])"
   ]
  },
  {
   "cell_type": "code",
   "execution_count": 9,
   "metadata": {},
   "outputs": [
    {
     "name": "stdout",
     "output_type": "stream",
     "text": [
      "Using k = 3 as the best parameter\n",
      "k-NN classifier: training error rate is 0.65 percent on 1078 samples,\n",
      "\ttest error rate is 0.56 percent on 719 samples\n"
     ]
    }
   ],
   "source": [
    "print('Using k = 3 as the best parameter')\n",
    "evaluate(h, training_set, test_set, 'k-NN classifier')"
   ]
  },
  {
   "cell_type": "markdown",
   "metadata": {
    "tags": [
     "AST"
    ]
   },
   "source": [
    "### Problem 1.5 (Exam Style)"
   ]
  },
  {
   "cell_type": "markdown",
   "metadata": {},
   "source": [
    "No because if the k-NN classifier did overfit the training data, the classifier would perform worse on any data that wasn't the training data, but in this case, the test error rate was lower than the training error rate so that means the classifier was not overfit."
   ]
  },
  {
   "cell_type": "markdown",
   "metadata": {
    "tags": [
     "AST"
    ]
   },
   "source": [
    "### Problem 1.6"
   ]
  },
  {
   "cell_type": "markdown",
   "metadata": {},
   "source": [
    "For the logistic-regression classifier, its test error rate was 8.62%, while the test error rate for the k-NN classifier was 0.56%, so the k-NN classifier performed much better. The k-NN classifier performed much better because it is easier to compare the numbers to similar numbers as compared to taking all of the data and turning it into one score."
   ]
  },
  {
   "cell_type": "markdown",
   "metadata": {
    "tags": [
     "AST"
    ]
   },
   "source": [
    "### Problem 1.7"
   ]
  },
  {
   "cell_type": "code",
   "execution_count": 10,
   "metadata": {
    "scrolled": false
   },
   "outputs": [
    {
     "data": {
      "text/plain": [
       "Text(0.5, 0, 'K')"
      ]
     },
     "execution_count": 10,
     "metadata": {},
     "output_type": "execute_result"
    },
    {
     "data": {
      "image/png": "[encoded data removed]",
      "text/plain": [
       "<Figure size 432x720 with 1 Axes>"
      ]
     },
     "metadata": {
      "needs_background": "light"
     },
     "output_type": "display_data"
    }
   ],
   "source": [
    "mean, std = h.cv_results_['mean_test_score'], h.cv_results_['std_test_score']\n",
    "k = [1, 2, 3, 4, 5, 6, 7, 8, 9, 10]\n",
    "fig = plt.figure(figsize=(6,10))\n",
    "plt.plot(k, mean)\n",
    "plt.axis([0,11,.9,1.02])\n",
    "plt.fill_between(k, mean-std, mean+std, alpha=.3)\n",
    "plt.ylabel('Mean Test Scores')\n",
    "plt.xlabel('K')"
   ]
  },
  {
   "cell_type": "markdown",
   "metadata": {
    "tags": [
     "AST"
    ]
   },
   "source": [
    "### Problem 1.8"
   ]
  },
  {
   "cell_type": "code",
   "execution_count": 11,
   "metadata": {},
   "outputs": [
    {
     "name": "stdout",
     "output_type": "stream",
     "text": [
      "k-NN classifier: training error rate is 0.93 percent on 1078 samples,\n",
      "\ttest error rate is 1.25 percent on 719 samples\n"
     ]
    }
   ],
   "source": [
    "bad_h = KNeighborsClassifier(n_neighbors=9)\n",
    "bad_h.fit(training_set['x'], training_set['y'])\n",
    "evaluate(bad_h, training_set, test_set, 'k-NN classifier')"
   ]
  },
  {
   "cell_type": "markdown",
   "metadata": {},
   "source": [
    "Using the worst hyper-parameter we get a test error rate of 1.25% which is about double the error rate of the best hyper-paramter. The value of $k$ returned by GridSearchCV can be trusted because since the std. deviation is pretty consistant for each mean, that means that there was no outlier score for any k value which would exaggerate the mean score that we recieve."
   ]
  },
  {
   "cell_type": "markdown",
   "metadata": {
    "tags": [
     "AST"
    ]
   },
   "source": [
    "## Part 2: Set Convexity"
   ]
  },
  {
   "cell_type": "markdown",
   "metadata": {
    "tags": [
     "AST"
    ]
   },
   "source": [
    "### Problem 2.1 (Exam Style)"
   ]
  },
  {
   "cell_type": "markdown",
   "metadata": {},
   "source": [
    "For any set $S$, it is convex if for every $u,v\\in S$ and $t\\in [0,1]$:\n",
    "$$\n",
    "tu + (1-t)v\\in S\n",
    "$$\n",
    "\n",
    "So let $C+D=E$, $c_1,c_2\\in C$, $d_1,d_2\\in D$, $e_1,e_2\\in E$, and $e_1=c_1+d_1$, $e_2=c_2+d_2$. $C$ and $D$ already have the property stated above since we know they are convex.\n",
    "\n",
    "Then:\n",
    "$$\n",
    "te_1 + (1-t)e_2 = t(c_1+d_1) + (1-t)(c_2+d_2)=tc_1 + td_2 + (1-t)c_2 + (1-t)d_2\n",
    "$$\n",
    "$$\n",
    "=(tc_1+(1-t)c_2) + (td_1+(1-t)d_2)\\in C + D = E\n",
    "$$\n",
    "\n",
    "This means that $E$ is convex."
   ]
  },
  {
   "cell_type": "markdown",
   "metadata": {
    "tags": [
     "AST"
    ]
   },
   "source": [
    "## Part 3: KKT Conditions"
   ]
  },
  {
   "cell_type": "markdown",
   "metadata": {
    "tags": [
     "AST"
    ]
   },
   "source": [
    "### Problem 3.1 (Exam Style)"
   ]
  },
  {
   "cell_type": "markdown",
   "metadata": {},
   "source": [
    "Lets find the Hessian matrix of $f$. This turns out to be $\\left[\\begin{array}{cc} 2 & 0 \\\\ 0 & 2 \\end{array}\\right]$ which is postive semidefinite so $f$ is convex."
   ]
  },
  {
   "cell_type": "markdown",
   "metadata": {
    "tags": [
     "AST"
    ]
   },
   "source": [
    "### Problem 3.2 (Exam Style)"
   ]
  },
  {
   "cell_type": "markdown",
   "metadata": {},
   "source": [
    "$A(v_1)= \\{1,2\\}$\n",
    "\n",
    "$A(v_2)= \\{2\\}$\n",
    "\n",
    "$A(v_3)= \\{1\\}$\n",
    "\n",
    "$A(v_4)= \\{\\}$"
   ]
  },
  {
   "cell_type": "markdown",
   "metadata": {
    "tags": [
     "AST"
    ]
   },
   "source": [
    "### Problem 3.3 (Exam Style)"
   ]
  },
  {
   "cell_type": "markdown",
   "metadata": {},
   "source": [
    "$b_1,b_2 = 0$\n",
    "\n",
    "$a_1 =\\left[\\begin{array}{cc} 1 \\\\ 0 \\end{array}\\right]$\n",
    "\n",
    "$a_2 = \\left[\\begin{array}{cc} 0 \\\\ 1 \\end{array}\\right]$"
   ]
  },
  {
   "cell_type": "markdown",
   "metadata": {
    "tags": [
     "AST"
    ]
   },
   "source": [
    "### Problem 3.4 (Exam Style)"
   ]
  },
  {
   "cell_type": "markdown",
   "metadata": {},
   "source": [
    "(For $v_1$)\n",
    "\n",
    "KKT Condition: $\\left[\\begin{array}{cc} -2 \\\\ -2 \\end{array}\\right] = \\alpha_1\\left[\\begin{array}{cc} 0 \\\\ 0 \\end{array}\\right] + \\alpha_2\\left[\\begin{array}{cc} 0 \\\\ 0 \\end{array}\\right]$\n",
    "\n",
    "This can't be satisfied for any $\\alpha_1,\\alpha_2$ so $v_1$ is not a solution.\n",
    "\n",
    "(For $v_2$)\n",
    "\n",
    "KKT Condition: $\\left[\\begin{array}{cc} -2 \\\\ 0 \\end{array}\\right] = \\alpha_1\\left[\\begin{array}{cc} 0 \\\\ 0 \\end{array}\\right] + \\alpha_2\\left[\\begin{array}{cc} 0 \\\\ 1 \\end{array}\\right]$\n",
    "\n",
    "This can't be satisfied, so $v_2$ is not a solution.\n",
    "\n",
    "(For $v_3$)\n",
    "\n",
    "KKT Condition: $\\left[\\begin{array}{cc} 0 \\\\ -2 \\end{array}\\right] = \\alpha_1\\left[\\begin{array}{cc} 1 \\\\ 0 \\end{array}\\right] + \\alpha_2\\left[\\begin{array}{cc} 0 \\\\ 0 \\end{array}\\right]$\n",
    "\n",
    "This can't be satisfied, so $v_3$ is not a solution.\n",
    "\n",
    "(For $v_4$)\n",
    "\n",
    "KKT Condition: $\\left[\\begin{array}{cc} 0 \\\\ 0 \\end{array}\\right] = \\alpha_1\\left[\\begin{array}{cc} 1 \\\\ 0 \\end{array}\\right] + \\alpha_2\\left[\\begin{array}{cc} 0 \\\\ 1 \\end{array}\\right]$\n",
    "\n",
    "This can be satisfied with $\\alpha_1,\\alpha_2 = 0$, so $v_4$ is a solution of the KKT Condition."
   ]
  },
  {
   "cell_type": "markdown",
   "metadata": {
    "tags": [
     "AST"
    ]
   },
   "source": [
    "### Problem 3.5 (Exam Style)"
   ]
  },
  {
   "cell_type": "markdown",
   "metadata": {},
   "source": [
    "$\\nabla f(v_2) = \\left[\\begin{array}{cc} 2(u_1 + 1) \\\\ 2(u_2-1) \\end{array}\\right]$\n",
    "\n",
    "($v_4$)\n",
    "\n",
    "KKT Condition: $\\left[\\begin{array}{cc} 4 \\\\ 0 \\end{array}\\right] = \\alpha_1\\left[\\begin{array}{cc} 1 \\\\ 0 \\end{array}\\right] + \\alpha_2\\left[\\begin{array}{cc} 0 \\\\ 1 \\end{array}\\right]$\n",
    "\n",
    "This can be satisfied with $\\alpha_1=4,\\alpha_2 = 0$, so $v_4$ is a solution of the KKT Condition."
   ]
  },
  {
   "cell_type": "markdown",
   "metadata": {
    "tags": [
     "AST"
    ]
   },
   "source": [
    "### Problem 3.6 (Exam Style)"
   ]
  },
  {
   "cell_type": "markdown",
   "metadata": {},
   "source": [
    "$\\nabla f(v_2) = \\left[\\begin{array}{cc} 2(u_1 + 1) \\\\ 2(u_2+2) \\end{array}\\right]$"
   ]
  },
  {
   "cell_type": "markdown",
   "metadata": {},
   "source": [
    "($v_4$)\n",
    "\n",
    "KKT Condition: $\\left[\\begin{array}{cc} 4 \\\\ 6 \\end{array}\\right] = \\alpha_1\\left[\\begin{array}{cc} 1 \\\\ 0 \\end{array}\\right] + \\alpha_2\\left[\\begin{array}{cc} 0 \\\\ 1 \\end{array}\\right]$\n",
    "\n",
    "This can be satisfied with $\\alpha_1=4,\\alpha_2 = 6$, so $v_4$ is a solution of the KKT Condition."
   ]
  }
 ],
 "metadata": {
  "kernelspec": {
   "display_name": "Python 3",
   "language": "python",
   "name": "python3"
  },
  "language_info": {
   "codemirror_mode": {
    "name": "ipython",
    "version": 3
   },
   "file_extension": ".py",
   "mimetype": "text/x-python",
   "name": "python",
   "nbconvert_exporter": "python",
   "pygments_lexer": "ipython3",
   "version": "3.7.3"
  }
 },
 "nbformat": 4,
 "nbformat_minor": 2
}
