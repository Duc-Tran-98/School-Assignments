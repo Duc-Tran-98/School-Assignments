{
 "cells": [
  {
   "cell_type": "markdown",
   "metadata": {
    "tags": [
     "AST"
    ]
   },
   "source": [
    "# COMPSCI 371D Homework 3"
   ]
  },
  {
   "cell_type": "markdown",
   "metadata": {
    "tags": [
     "AST"
    ]
   },
   "source": [
    "## Part 1: Nearest-Neighbor Classification"
   ]
  },
  {
   "cell_type": "code",
   "execution_count": 1,
   "metadata": {
    "tags": [
     "AST"
    ]
   },
   "outputs": [],
   "source": [
    "from sklearn.datasets import load_digits\n",
    "import numpy as np\n",
    "import matplotlib.pyplot as plt\n",
    "%matplotlib inline\n",
    "\n",
    "digits = load_digits()\n",
    "X = digits.data\n",
    "y = digits.target\n",
    "image_shape = digits.images[0].shape"
   ]
  },
  {
   "cell_type": "markdown",
   "metadata": {
    "tags": [
     "AST"
    ]
   },
   "source": [
    "### Problem 1.1"
   ]
  },
  {
   "cell_type": "code",
   "execution_count": 2,
   "metadata": {},
   "outputs": [],
   "source": [
    "def show_sample_digits(X, y, shape):\n",
    "    fig, axes = plt.subplots(3,4, figsize=(10,10))\n",
    "    for r in range(len(axes)):\n",
    "        for c in range(len(axes[0])):\n",
    "            axs = axes[r, c]\n",
    "            number = y[r*len(axes[0])+c]\n",
    "            axs.matshow(X[number].reshape(8,8), cmap = plt.cm.gray)\n",
    "            axs.get_xaxis().set_ticks([])\n",
    "            axs.get_yaxis().set_ticks([])\n",
    "            axs.set_title(number)\n",
    "            if (r*len(axes[0])+c) > 9:\n",
    "                axs.set_visible(False)"
   ]
  },
  {
   "cell_type": "code",
   "execution_count": 3,
   "metadata": {},
   "outputs": [
    {
     "data": {
      "image/png": "[encoded data removed]",
      "text/plain": [
       "<Figure size 720x720 with 12 Axes>"
      ]
     },
     "metadata": {},
     "output_type": "display_data"
    }
   ],
   "source": [
    "show_sample_digits(X, y, image_shape)"
   ]
  },
  {
   "cell_type": "markdown",
   "metadata": {
    "tags": [
     "AST"
    ]
   },
   "source": [
    "### Problem 1.2"
   ]
  },
  {
   "cell_type": "code",
   "execution_count": 4,
   "metadata": {
    "tags": [
     "AST"
    ]
   },
   "outputs": [],
   "source": [
    "from sklearn.model_selection import train_test_split\n",
    "from sklearn.neighbors import KNeighborsClassifier\n",
    "import sklearn.metrics as met\n",
    "\n",
    "X_train, X_test, y_train, y_test =\\\n",
    "    train_test_split(X, y, test_size=0.5, random_state=3)"
   ]
  },
  {
   "cell_type": "code",
   "execution_count": 5,
   "metadata": {},
   "outputs": [
    {
     "data": {
      "text/plain": [
       "KNeighborsClassifier(algorithm='auto', leaf_size=30, metric='minkowski',\n",
       "                     metric_params=None, n_jobs=None, n_neighbors=1, p=2,\n",
       "                     weights='uniform')"
      ]
     },
     "execution_count": 5,
     "metadata": {},
     "output_type": "execute_result"
    }
   ],
   "source": [
    "predictor = KNeighborsClassifier(n_neighbors = 1)\n",
    "predictor.fit(X_train, y_train)"
   ]
  },
  {
   "cell_type": "code",
   "execution_count": 6,
   "metadata": {},
   "outputs": [
    {
     "name": "stdout",
     "output_type": "stream",
     "text": [
      "Accuracy: 0.9833\n"
     ]
    }
   ],
   "source": [
    "print('Accuracy:',round(predictor.score(X_test, y_test),4))"
   ]
  },
  {
   "cell_type": "code",
   "execution_count": 7,
   "metadata": {},
   "outputs": [
    {
     "name": "stdout",
     "output_type": "stream",
     "text": [
      "[[96  0  0  0  1  0  0  0  0  0]\n",
      " [ 0 92  0  0  0  0  0  0  1  0]\n",
      " [ 0  0 99  0  0  0  0  0  0  0]\n",
      " [ 0  0  0 86  0  0  0  0  0  0]\n",
      " [ 0  1  0  0 96  0  0  0  0  0]\n",
      " [ 0  0  0  0  0 85  0  0  0  2]\n",
      " [ 0  0  0  0  0  0 77  0  0  0]\n",
      " [ 0  0  0  0  0  0  0 86  0  0]\n",
      " [ 0  2  1  3  0  0  0  0 83  3]\n",
      " [ 0  0  0  0  1  0  0  0  0 84]]\n"
     ]
    }
   ],
   "source": [
    "y_pred = predictor.predict(X_test)\n",
    "\n",
    "digits = [0,1,2,3,4,5,6,7,8,9]\n",
    "\n",
    "confusion = met.confusion_matrix(y_test, y_pred, labels = digits)\n",
    "print(confusion)"
   ]
  },
  {
   "cell_type": "markdown",
   "metadata": {
    "tags": [
     "AST"
    ]
   },
   "source": [
    "### Problem 1.3 (Exam-Style)"
   ]
  },
  {
   "cell_type": "markdown",
   "metadata": {},
   "source": [
    "$$\n",
    "a = \\frac{\\sum_{i = 1, j = 1}^{K} c_{ij}}{\\sum_{i = 1}^{K} \\sum_{j = 1}^{K} c_{ij}}\n",
    "$$"
   ]
  },
  {
   "cell_type": "markdown",
   "metadata": {
    "tags": [
     "AST"
    ]
   },
   "source": [
    "### Problem 1.4"
   ]
  },
  {
   "cell_type": "code",
   "execution_count": 8,
   "metadata": {},
   "outputs": [],
   "source": [
    "def show_max_confusion(confusion, X, shape, y, y_hat):\n",
    "\n",
    "    #Iterate through the confusion matrix to find the largest non-diagonal figure\n",
    "    largest_error = -1\n",
    "    row = -1\n",
    "    col = -1\n",
    "    for r in range(len(confusion)):\n",
    "        for c in range(len(confusion[0])):\n",
    "            if r != c:\n",
    "                if largest_error < confusion[r,c]:\n",
    "                    largest_error = confusion[r,c]\n",
    "                    row = r\n",
    "                    col = c\n",
    "    \n",
    "    #Find the Indicies of the missed predictions\n",
    "    missed = []\n",
    "    for i in range(len(y)):\n",
    "        if (y[i] == row) and (y_hat[i] == col):\n",
    "            missed.append(i)\n",
    "    \n",
    "    #Print out the Figure\n",
    "    fig, axes = plt.subplots(1, len(missed), figsize=(10,10))\n",
    "    fig.suptitle('Images of digit {%d} misclassified as digit {%d}' %(row, col), y = .65)\n",
    "    for n in range(len(missed)):\n",
    "            axs = axes[n]\n",
    "            axs.matshow(X[missed[n]].reshape(8,8), cmap = plt.cm.gray)\n",
    "            axs.get_xaxis().set_ticks([])\n",
    "            axs.get_yaxis().set_ticks([])\n",
    "        \n",
    "    return np.array(missed)\n",
    "    "
   ]
  },
  {
   "cell_type": "code",
   "execution_count": 9,
   "metadata": {},
   "outputs": [
    {
     "name": "stdout",
     "output_type": "stream",
     "text": [
      "The indices for the misclassified digits are\n",
      "\n",
      "[106 301 641]\n"
     ]
    },
    {
     "data": {
      "image/png": "[encoded data removed]",
      "text/plain": [
       "<Figure size 720x720 with 3 Axes>"
      ]
     },
     "metadata": {},
     "output_type": "display_data"
    }
   ],
   "source": [
    "m = show_max_confusion(confusion, X_test, image_shape, y_test, y_pred)\n",
    "\n",
    "print('The indices for the misclassified digits are')\n",
    "print()\n",
    "print(m)"
   ]
  },
  {
   "cell_type": "markdown",
   "metadata": {
    "tags": [
     "AST"
    ]
   },
   "source": [
    "### Problem 1.5"
   ]
  },
  {
   "cell_type": "code",
   "execution_count": 10,
   "metadata": {},
   "outputs": [],
   "source": [
    "def print_nearest_distance(X, cases):\n",
    "    #Finding the distance of nearest neighbors and the indices of them \n",
    "    nearest_distance = []\n",
    "    nearest_indices = []\n",
    "    for c in cases:\n",
    "        x1 = X[c]\n",
    "        min_dis = 1000000\n",
    "        index = -1\n",
    "        \n",
    "        for n in range(len(X)):\n",
    "            if n != c:\n",
    "                x2 = X[n]\n",
    "                if np.linalg.norm(x1-x2) < min_dis:\n",
    "                    min_dis = np.linalg.norm(x1-x2)\n",
    "                    index = n\n",
    "        \n",
    "        nearest_distance.append(min_dis)\n",
    "        nearest_indices.append(index)\n",
    "            \n",
    "    #Finding the next nearest neighbors\n",
    "    next_dis = []\n",
    "    for i in range(len(cases)):\n",
    "        self = cases[i]\n",
    "        nearest = nearest_indices[i]\n",
    "        min_dis = 1000000\n",
    "        x1 = X[self]\n",
    "        \n",
    "        for m in range(len(X)):\n",
    "            if (m != self):\n",
    "                if(m != nearest):\n",
    "                    x2 = X[m]\n",
    "                    if np.linalg.norm(x1-x2) < min_dis:\n",
    "                        min_dis = np.linalg.norm(x1-x2)\n",
    "                        \n",
    "        next_dis.append(min_dis)\n",
    "    \n",
    "    cell_text = []\n",
    "    cell_text.append(['%.4f' % x for x in nearest_distance])\n",
    "    cell_text.append(['%.4f' % x for x in next_dis])\n",
    "    rows = ['Nearest Distance:', 'Next-Nearest Distance:']\n",
    "    \n",
    "    fig, ax = plt.subplots()\n",
    "    ax.axis('off')\n",
    "    ax.table(cellText = cell_text, rowLabels = rows, loc='center')"
   ]
  },
  {
   "cell_type": "code",
   "execution_count": 11,
   "metadata": {},
   "outputs": [
    {
     "data": {
      "image/png": "[encoded data removed]",
      "text/plain": [
       "<Figure size 432x288 with 1 Axes>"
      ]
     },
     "metadata": {
      "needs_background": "light"
     },
     "output_type": "display_data"
    }
   ],
   "source": [
    "print_nearest_distance(X_test, m)"
   ]
  },
  {
   "cell_type": "markdown",
   "metadata": {
    "tags": [
     "AST"
    ]
   },
   "source": [
    "### Problem 1.6 (Exam-Style)"
   ]
  },
  {
   "cell_type": "markdown",
   "metadata": {},
   "source": [
    "Since the distance can be used to decide how similar $x$ is to one of its neighbors, so if $x$ were to be classified, it would be classified similarly to its nearest nieghbor. If some random noise were introduced into the data set $X$, its distance to $x$ could be smaller than the nearest distance, which would cause $x$ to be misclassified, so if the nearest distance to $x$ were decreased, the set of random noise that could be closer to $x$ than the nearest neighbor would be reduced. This would mean that $x$ would be more likely to be classified correctly."
   ]
  },
  {
   "cell_type": "markdown",
   "metadata": {
    "tags": [
     "AST"
    ]
   },
   "source": [
    "## Part 2: Nearest-Neighbor Regression"
   ]
  },
  {
   "cell_type": "code",
   "execution_count": 12,
   "metadata": {
    "tags": [
     "AST"
    ]
   },
   "outputs": [],
   "source": [
    "import pickle\n",
    "\n",
    "with open('ames.pickle', 'rb') as f:\n",
    "    data = pickle.load(f)\n",
    "X, y = data['X'], data['y']"
   ]
  },
  {
   "cell_type": "markdown",
   "metadata": {
    "tags": [
     "AST"
    ]
   },
   "source": [
    "### Problem 2.1"
   ]
  },
  {
   "cell_type": "code",
   "execution_count": 13,
   "metadata": {},
   "outputs": [],
   "source": [
    "from sklearn.neighbors import KNeighborsRegressor\n",
    "\n",
    "nb1 = KNeighborsRegressor(n_neighbors = 1)\n",
    "\n",
    "nb10 = KNeighborsRegressor(n_neighbors = 10)\n",
    "\n",
    "nb100 = KNeighborsRegressor(n_neighbors = 100)\n",
    "\n",
    "x_space = np.array(np.linspace(0,6000,6000)).reshape(6000,1)"
   ]
  },
  {
   "cell_type": "code",
   "execution_count": 14,
   "metadata": {},
   "outputs": [
    {
     "data": {
      "text/plain": [
       "KNeighborsRegressor(algorithm='auto', leaf_size=30, metric='minkowski',\n",
       "                    metric_params=None, n_jobs=None, n_neighbors=100, p=2,\n",
       "                    weights='uniform')"
      ]
     },
     "execution_count": 14,
     "metadata": {},
     "output_type": "execute_result"
    }
   ],
   "source": [
    "nb1.fit(X,y)\n",
    "\n",
    "nb10.fit(X,y)\n",
    "\n",
    "nb100.fit(X,y)"
   ]
  },
  {
   "cell_type": "code",
   "execution_count": 15,
   "metadata": {},
   "outputs": [],
   "source": [
    "y1 = nb1.predict(x_space)\n",
    "\n",
    "y10 = nb10.predict(x_space)\n",
    "\n",
    "y100 = nb100.predict(x_space)"
   ]
  },
  {
   "cell_type": "code",
   "execution_count": 16,
   "metadata": {},
   "outputs": [
    {
     "data": {
      "text/plain": [
       "<matplotlib.legend.Legend at 0x1f857aef320>"
      ]
     },
     "execution_count": 16,
     "metadata": {},
     "output_type": "execute_result"
    },
    {
     "data": {
      "image/png": "[encoded data removed]",
      "text/plain": [
       "<Figure size 720x720 with 1 Axes>"
      ]
     },
     "metadata": {
      "needs_background": "light"
     },
     "output_type": "display_data"
    }
   ],
   "source": [
    "fig = plt.figure(figsize=(10,10))\n",
    "scatter = plt.scatter(X,y)\n",
    "plt.plot(x_space, y1, '-r', label = 'k=1')\n",
    "plt.plot(x_space, y10, '-y', label = 'k=10')\n",
    "plt.plot(x_space, y100, '-k', label = 'k=100')\n",
    "plt.legend(loc='best')"
   ]
  },
  {
   "cell_type": "markdown",
   "metadata": {
    "tags": [
     "AST"
    ]
   },
   "source": [
    "### Problem 2.2 (Exam-Style)"
   ]
  },
  {
   "cell_type": "markdown",
   "metadata": {},
   "source": [
    "Whenever there are outliers in a dataset, it can be risky to use the mean since the mean can be affected greatly. On the otherhand, if the dataset is evenly spaced, the median can be used since outliers won't affect the median as much."
   ]
  }
 ],
 "metadata": {
  "kernelspec": {
   "display_name": "Python 3",
   "language": "python",
   "name": "python3"
  },
  "language_info": {
   "codemirror_mode": {
    "name": "ipython",
    "version": 3
   },
   "file_extension": ".py",
   "mimetype": "text/x-python",
   "name": "python",
   "nbconvert_exporter": "python",
   "pygments_lexer": "ipython3",
   "version": "3.7.3"
  }
 },
 "nbformat": 4,
 "nbformat_minor": 2
}
